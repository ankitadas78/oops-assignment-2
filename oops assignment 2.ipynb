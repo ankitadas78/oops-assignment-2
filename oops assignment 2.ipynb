{
 "cells": [
  {
   "cell_type": "markdown",
   "id": "a6152645-f39a-41b2-97e3-8ab2093bb587",
   "metadata": {},
   "source": [
    "ques1_what is abstruction in oops?explain with an example"
   ]
  },
  {
   "cell_type": "code",
   "execution_count": 1,
   "id": "3f606c57-343c-421a-a020-8412682d1ccc",
   "metadata": {},
   "outputs": [],
   "source": [
    "#abstruction: displaying only essential inforamtion and hiding the details\n",
    "#example\n",
    "\n",
    "import abc\n",
    "class pwskills:\n",
    "    @abc.abstractmethod\n",
    "    def students_details(self):\n",
    "        pass\n",
    "    @abc.abstractmethod\n",
    "    def students_assignment(self):\n",
    "        pass\n",
    "    @abc.abstractmethod\n",
    "    def students_marks(self):\n",
    "        pass"
   ]
  },
  {
   "cell_type": "code",
   "execution_count": 2,
   "id": "4c377afe-40e3-4db5-8fcb-3b91d8cfe0dd",
   "metadata": {},
   "outputs": [],
   "source": [
    "class student_details(pwskills):\n",
    "    \n",
    "    def students_details(self):\n",
    "        return \"this is a meth for taking student details\"\n",
    "    \n",
    "    def students_assignment(self):\n",
    "        return \"this is a meth for assign details for a particular student\""
   ]
  },
  {
   "cell_type": "code",
   "execution_count": 4,
   "id": "69a94b46-cf99-4697-8a59-d3a756776b86",
   "metadata": {},
   "outputs": [],
   "source": [
    "class data_science_masters(pwskills):\n",
    "    \n",
    "    def students_details(self):\n",
    "        return \"this will return a student details for data science masters\"\n",
    "    \n",
    "    def student_assignment(self):\n",
    "        return \"this will give you a student assignment details for data science masters\""
   ]
  },
  {
   "cell_type": "code",
   "execution_count": 5,
   "id": "85dbf90c-df35-4c5f-ad21-da674f58d6c2",
   "metadata": {},
   "outputs": [
    {
     "data": {
      "text/plain": [
       "'this will return a student details for data science masters'"
      ]
     },
     "execution_count": 5,
     "metadata": {},
     "output_type": "execute_result"
    }
   ],
   "source": [
    "dsm = data_science_masters()\n",
    "dsm.students_details()"
   ]
  },
  {
   "cell_type": "code",
   "execution_count": 7,
   "id": "850f049b-ce3f-4e34-8ce0-1757c19f44b8",
   "metadata": {},
   "outputs": [
    {
     "data": {
      "text/plain": [
       "'this is a meth for taking student details'"
      ]
     },
     "execution_count": 7,
     "metadata": {},
     "output_type": "execute_result"
    }
   ],
   "source": [
    "sd = student_details()\n",
    "sd.students_details()"
   ]
  },
  {
   "cell_type": "markdown",
   "id": "0fc6e693-b821-4649-b93d-f3b6ccf32c90",
   "metadata": {},
   "source": [
    "ques2_differentiate between abstruction and encapsualtion.explain with an example"
   ]
  },
  {
   "cell_type": "code",
   "execution_count": 14,
   "id": "087f827d-e329-40cd-8427-a643cad13020",
   "metadata": {},
   "outputs": [],
   "source": [
    "##absturction is the method to create the outline of coding whereas encapsulation is the method that to hide private information from outside or user.\n",
    "#abstruct function\n",
    "\n",
    "import abc\n",
    "class data_science:\n",
    "    @abc.abstractmethod\n",
    "    def course_details(self):\n",
    "        pass\n",
    "    @abc.abstractmethod\n",
    "    def course_structure(self):\n",
    "        pass\n",
    "    @abc.abstractmethod\n",
    "    def course_mentor(self):\n",
    "        pass"
   ]
  },
  {
   "cell_type": "code",
   "execution_count": 16,
   "id": "114b02c4-ec34-4ca7-9c2b-cb849c71c9f5",
   "metadata": {},
   "outputs": [],
   "source": [
    "class course_details(data_science):\n",
    "    def course_details(self):\n",
    "        return \"this is the best course to build up your career\"\n",
    "    \n",
    "    def couse_structure(self):\n",
    "        return \"python,statistics,machine learning,deep learning are included in course structure\"\n",
    "    \n",
    "    def course_mentor(self):\n",
    "        return \"course mentor are sudhansu sir and krish naik sir\""
   ]
  },
  {
   "cell_type": "code",
   "execution_count": 20,
   "id": "40d2c532-5f97-456a-9b15-501bde7803f0",
   "metadata": {},
   "outputs": [],
   "source": [
    "class pwskills(data_science):\n",
    "    \n",
    "    def course_details(self):\n",
    "        return \"you can access this course from pw website\"\n",
    "    \n",
    "    def course_structure(self):\n",
    "        return \"course price is only 3500\"\n",
    "    \n",
    "    def course_mentor(self):\n",
    "        return \"pw gives you India's best experienced teacher\""
   ]
  },
  {
   "cell_type": "code",
   "execution_count": 24,
   "id": "47d4c58b-0526-4784-886f-2b9734ea059b",
   "metadata": {},
   "outputs": [
    {
     "data": {
      "text/plain": [
       "'this is the best course to build up your career'"
      ]
     },
     "execution_count": 24,
     "metadata": {},
     "output_type": "execute_result"
    }
   ],
   "source": [
    "cd = course_details()\n",
    "cd.course_details()"
   ]
  },
  {
   "cell_type": "code",
   "execution_count": 22,
   "id": "248866ea-f584-4125-a979-14e6477c9273",
   "metadata": {},
   "outputs": [
    {
     "data": {
      "text/plain": [
       "'this is the best course to build up your career'"
      ]
     },
     "execution_count": 22,
     "metadata": {},
     "output_type": "execute_result"
    }
   ],
   "source": [
    "pw = course_details()\n",
    "pw.course_details()"
   ]
  },
  {
   "cell_type": "code",
   "execution_count": 25,
   "id": "ed8b4400-1448-4d6f-a149-ce273e5e0271",
   "metadata": {},
   "outputs": [
    {
     "data": {
      "text/plain": [
       "'course mentor are sudhansu sir and krish naik sir'"
      ]
     },
     "execution_count": 25,
     "metadata": {},
     "output_type": "execute_result"
    }
   ],
   "source": [
    "cd.course_mentor()"
   ]
  },
  {
   "cell_type": "code",
   "execution_count": 28,
   "id": "d80e12a9-b082-43ac-a8c1-3ada01a8fa8e",
   "metadata": {},
   "outputs": [
    {
     "data": {
      "text/plain": [
       "'python,statistics,machine learning,deep learning are included in course structure'"
      ]
     },
     "execution_count": 28,
     "metadata": {},
     "output_type": "execute_result"
    }
   ],
   "source": [
    "pw.couse_structure()"
   ]
  },
  {
   "cell_type": "code",
   "execution_count": 29,
   "id": "aee8d59e-eb34-4280-8dcf-d65f47a6bb8b",
   "metadata": {},
   "outputs": [],
   "source": [
    "##encapsulation\n",
    "\n",
    "\n",
    "class car:\n",
    "    def __init__(self,year,make,model,speed):\n",
    "        \n",
    "        self.__year = year\n",
    "        self.__make = make\n",
    "        self.__model = model\n",
    "        self.__speed = 0\n",
    "        \n",
    "    def set_speed(self,speed):\n",
    "        self.__speed = 0 if speed < 0 else speed\n",
    "        \n",
    "    def get_speed(self):\n",
    "        return self.__speed"
   ]
  },
  {
   "cell_type": "code",
   "execution_count": 30,
   "id": "1eebaa5f-75c0-4770-b0a4-395298bb8214",
   "metadata": {},
   "outputs": [],
   "source": [
    "c = car(2021 , \"toyta\" , \"innova\" , 12)"
   ]
  },
  {
   "cell_type": "code",
   "execution_count": 31,
   "id": "4e511f99-d722-4722-a03d-44e281ad30c0",
   "metadata": {},
   "outputs": [],
   "source": [
    "c.set_speed(89)"
   ]
  },
  {
   "cell_type": "code",
   "execution_count": 32,
   "id": "80fd5fff-4614-459d-aa13-ecadf8d29e22",
   "metadata": {},
   "outputs": [
    {
     "data": {
      "text/plain": [
       "89"
      ]
     },
     "execution_count": 32,
     "metadata": {},
     "output_type": "execute_result"
    }
   ],
   "source": [
    "c.get_speed()"
   ]
  },
  {
   "cell_type": "markdown",
   "id": "222be30a-228e-4142-bb63-64b66fc7fd92",
   "metadata": {},
   "source": [
    "ques3_what is abc method in python?why it is used?"
   ]
  },
  {
   "cell_type": "code",
   "execution_count": 33,
   "id": "61eec3ff-c825-4580-9404-160bca172477",
   "metadata": {},
   "outputs": [],
   "source": [
    "##abc method is known as absturct base class , it provides the infraturcture for defining custom abstract base class\n",
    "\n",
    "##uses of abc method : it is used as a blueprint for other classes , it increases the efficiency and thus reduces complexity of a programme\n",
    "\n",
    "###example\n",
    "\n",
    "import abc\n",
    "\n",
    "class survey:\n",
    "    @abc.abstractmethod\n",
    "    def total_population(self):\n",
    "        pass\n",
    "    \n",
    "    @abc.abstractmethod\n",
    "    def family_income(self):\n",
    "        pass"
   ]
  },
  {
   "cell_type": "code",
   "execution_count": 34,
   "id": "9290cadc-d52c-4baa-b9ed-5089997a42d1",
   "metadata": {},
   "outputs": [],
   "source": [
    "class population(survey):\n",
    "    def total_population(self):\n",
    "        return \"the total population of a village is 5000\"\n",
    "    def family_income(self):\n",
    "        return \"the monthly family income of a household is 7000\""
   ]
  },
  {
   "cell_type": "code",
   "execution_count": 35,
   "id": "661cbbde-5089-4ba1-a8cf-dfccea7dc48e",
   "metadata": {},
   "outputs": [],
   "source": [
    "class agriculture(survey):\n",
    "    def total_population(self):\n",
    "        return \"50% of a popualtion is associated with agricultur\"\n",
    "    def family_income(self):\n",
    "        return \"maximun imcome comes from agriculture in this village\""
   ]
  },
  {
   "cell_type": "code",
   "execution_count": 36,
   "id": "55467841-e524-4a9c-8cac-a80d38c41411",
   "metadata": {},
   "outputs": [],
   "source": [
    "p = population()"
   ]
  },
  {
   "cell_type": "code",
   "execution_count": 38,
   "id": "b8076c92-90bc-4227-b075-83376fece555",
   "metadata": {},
   "outputs": [],
   "source": [
    "a = agriculture()"
   ]
  },
  {
   "cell_type": "code",
   "execution_count": 39,
   "id": "39b27ad1-16a3-4428-8bcc-1773fac43bb7",
   "metadata": {},
   "outputs": [
    {
     "data": {
      "text/plain": [
       "'the monthly family income of a household is 7000'"
      ]
     },
     "execution_count": 39,
     "metadata": {},
     "output_type": "execute_result"
    }
   ],
   "source": [
    "p.family_income()"
   ]
  },
  {
   "cell_type": "code",
   "execution_count": 40,
   "id": "63205ba5-6173-4d84-ae1d-67348bde8db1",
   "metadata": {},
   "outputs": [
    {
     "data": {
      "text/plain": [
       "'the total population of a village is 5000'"
      ]
     },
     "execution_count": 40,
     "metadata": {},
     "output_type": "execute_result"
    }
   ],
   "source": [
    "p.total_population()"
   ]
  },
  {
   "cell_type": "code",
   "execution_count": 41,
   "id": "62481421-d5ac-4e12-b847-fdb4cd2a8ed4",
   "metadata": {},
   "outputs": [
    {
     "data": {
      "text/plain": [
       "'maximun imcome comes from agriculture in this village'"
      ]
     },
     "execution_count": 41,
     "metadata": {},
     "output_type": "execute_result"
    }
   ],
   "source": [
    "a.family_income()"
   ]
  },
  {
   "cell_type": "code",
   "execution_count": 42,
   "id": "9f107ea1-c202-4882-a10e-892755742ea5",
   "metadata": {},
   "outputs": [
    {
     "data": {
      "text/plain": [
       "'50% of a popualtion is associated with agricultur'"
      ]
     },
     "execution_count": 42,
     "metadata": {},
     "output_type": "execute_result"
    }
   ],
   "source": [
    "a.total_population()"
   ]
  },
  {
   "cell_type": "markdown",
   "id": "0944a662-6972-4938-94b9-d5689fe7525e",
   "metadata": {},
   "source": [
    "ques4_how can we achieve data abstruction?"
   ]
  },
  {
   "cell_type": "code",
   "execution_count": 44,
   "id": "25f6764f-a16f-49cf-af5f-7f8004bfb642",
   "metadata": {},
   "outputs": [],
   "source": [
    "#data abstruction can be achieved through creating abstruct classes and inheriting them later.data absturction is the process of hiding certai details and showing only essential information to the user , absturction can be acheived with either abstruct classes or interfaces\n"
   ]
  },
  {
   "cell_type": "markdown",
   "id": "e3b0eb04-342f-427d-8234-f16b03cae013",
   "metadata": {},
   "source": [
    "ques5_can we create an instance of an abstruct class?explain your answer"
   ]
  },
  {
   "cell_type": "code",
   "execution_count": 46,
   "id": "8bb31e7e-2a6c-4d4a-ad2a-d6b0cc8868f4",
   "metadata": {},
   "outputs": [],
   "source": [
    "##no,beacause abstruct classes are similar to interfaces, we can  not instantiate them and they may contain a mix of methods declared with or without an implementation.but they can be subclassed.moreover it is an incomplete class that contains abstruct methods without any implementation, so 0 instance can be created for an absturct class"
   ]
  },
  {
   "cell_type": "code",
   "execution_count": null,
   "id": "d4b6362e-011b-4d5e-a6d5-062caf882273",
   "metadata": {},
   "outputs": [],
   "source": []
  }
 ],
 "metadata": {
  "kernelspec": {
   "display_name": "Python 3 (ipykernel)",
   "language": "python",
   "name": "python3"
  },
  "language_info": {
   "codemirror_mode": {
    "name": "ipython",
    "version": 3
   },
   "file_extension": ".py",
   "mimetype": "text/x-python",
   "name": "python",
   "nbconvert_exporter": "python",
   "pygments_lexer": "ipython3",
   "version": "3.10.8"
  }
 },
 "nbformat": 4,
 "nbformat_minor": 5
}
